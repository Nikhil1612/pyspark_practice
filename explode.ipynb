{
 "cells": [
  {
   "cell_type": "code",
   "execution_count": 0,
   "metadata": {
    "application/vnd.databricks.v1+cell": {
     "cellMetadata": {
      "byteLimit": 2048000,
      "rowLimit": 10000
     },
     "inputWidgets": {},
     "nuid": "90ba8580-cec8-4477-91e8-f271df0948d3",
     "showTitle": false,
     "title": ""
    }
   },
   "outputs": [],
   "source": [
    "sample_data=[(1,'Nikhil',['TPT','CHE','GNV','KATY']),(2,'Jeeva',['CTR','VKOTA','TPT']),(3,'Uma',['GTR','GNV','DLS'])]\n",
    "columns=['ID','NAME','CITIES']"
   ]
  },
  {
   "cell_type": "code",
   "execution_count": 0,
   "metadata": {
    "application/vnd.databricks.v1+cell": {
     "cellMetadata": {
      "byteLimit": 2048000,
      "rowLimit": 10000
     },
     "inputWidgets": {},
     "nuid": "049f74d3-1460-41e1-8915-bc8202f07172",
     "showTitle": false,
     "title": ""
    }
   },
   "outputs": [
    {
     "output_type": "stream",
     "name": "stdout",
     "output_type": "stream",
     "text": [
      "+---+------+--------------------+\n| ID|  NAME|              CITIES|\n+---+------+--------------------+\n|  1|Nikhil|[TPT, CHE, GNV, K...|\n|  2| Jeeva|   [CTR, VKOTA, TPT]|\n|  3|   Uma|     [GTR, GNV, DLS]|\n+---+------+--------------------+\n\n"
     ]
    }
   ],
   "source": [
    "df=spark.createDataFrame(sample_data,columns)\n",
    "df.show()"
   ]
  },
  {
   "cell_type": "code",
   "execution_count": 0,
   "metadata": {
    "application/vnd.databricks.v1+cell": {
     "cellMetadata": {
      "byteLimit": 2048000,
      "rowLimit": 10000
     },
     "inputWidgets": {},
     "nuid": "59876134-0d48-4dce-bfac-4cc215743d23",
     "showTitle": false,
     "title": ""
    }
   },
   "outputs": [],
   "source": [
    "from pyspark.sql.functions import col,explode"
   ]
  },
  {
   "cell_type": "code",
   "execution_count": 0,
   "metadata": {
    "application/vnd.databricks.v1+cell": {
     "cellMetadata": {
      "byteLimit": 2048000,
      "rowLimit": 10000
     },
     "inputWidgets": {},
     "nuid": "88b08373-25b2-48ac-92cc-5b8c920c1b3d",
     "showTitle": false,
     "title": ""
    }
   },
   "outputs": [
    {
     "output_type": "stream",
     "name": "stdout",
     "output_type": "stream",
     "text": [
      "+---+------+-----+\n| ID|  NAME|  col|\n+---+------+-----+\n|  1|Nikhil|  TPT|\n|  1|Nikhil|  CHE|\n|  1|Nikhil|  GNV|\n|  1|Nikhil| KATY|\n|  2| Jeeva|  CTR|\n|  2| Jeeva|VKOTA|\n|  2| Jeeva|  TPT|\n|  3|   Uma|  GTR|\n|  3|   Uma|  GNV|\n|  3|   Uma|  DLS|\n+---+------+-----+\n\n"
     ]
    }
   ],
   "source": [
    "df_exploded=df.select(col('ID'),col('NAME'),explode(col('CITIES')))\n",
    "df_exploded.show()"
   ]
  },
  {
   "cell_type": "code",
   "execution_count": 0,
   "metadata": {
    "application/vnd.databricks.v1+cell": {
     "cellMetadata": {
      "byteLimit": 2048000,
      "rowLimit": 10000
     },
     "inputWidgets": {},
     "nuid": "e349c950-9b6d-4d53-9692-927cd41095e6",
     "showTitle": false,
     "title": ""
    }
   },
   "outputs": [
    {
     "output_type": "stream",
     "name": "stdout",
     "output_type": "stream",
     "text": [
      "+---+------+------+\n| ID|  NAME|CITIES|\n+---+------+------+\n|  1|Nikhil|   TPT|\n|  1|Nikhil|   CHE|\n|  1|Nikhil|   GNV|\n|  1|Nikhil|  KATY|\n|  2| Jeeva|   CTR|\n|  2| Jeeva| VKOTA|\n|  2| Jeeva|   TPT|\n|  3|   Uma|   GTR|\n|  3|   Uma|   GNV|\n|  3|   Uma|   DLS|\n+---+------+------+\n\n"
     ]
    }
   ],
   "source": [
    "df_exploded=df.select(col('ID'),col('NAME'),explode(col('CITIES')).alias('CITIES'))\n",
    "df_exploded.show()"
   ]
  }
 ],
 "metadata": {
  "application/vnd.databricks.v1+notebook": {
   "dashboards": [],
   "environmentMetadata": null,
   "language": "python",
   "notebookMetadata": {
    "pythonIndentUnit": 4
   },
   "notebookName": "explode",
   "widgets": {}
  }
 },
 "nbformat": 4,
 "nbformat_minor": 0
}
