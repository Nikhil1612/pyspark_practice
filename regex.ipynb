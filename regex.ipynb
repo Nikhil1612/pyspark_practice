{
 "cells": [
  {
   "cell_type": "code",
   "execution_count": 0,
   "metadata": {
    "application/vnd.databricks.v1+cell": {
     "cellMetadata": {
      "byteLimit": 2048000,
      "rowLimit": 10000
     },
     "inputWidgets": {},
     "nuid": "e26d6775-de0a-4f38-aa6a-7ffbe19e8be2",
     "showTitle": false,
     "title": ""
    }
   },
   "outputs": [],
   "source": [
    "sample_data=[(1,'Nikhil','75894811585'),(2,'Jeeva','912d194912'),(3,'Uma','9492657547')]\n",
    "columns=['ID','NAME','PHNO']"
   ]
  },
  {
   "cell_type": "code",
   "execution_count": 0,
   "metadata": {
    "application/vnd.databricks.v1+cell": {
     "cellMetadata": {
      "byteLimit": 2048000,
      "rowLimit": 10000
     },
     "inputWidgets": {},
     "nuid": "72d225de-4f0b-4d83-b3c4-0b316d0e8c89",
     "showTitle": false,
     "title": ""
    }
   },
   "outputs": [
    {
     "output_type": "stream",
     "name": "stdout",
     "output_type": "stream",
     "text": [
      "+---+------+-----------+\n| ID|  NAME|       PHNO|\n+---+------+-----------+\n|  1|Nikhil|75894811585|\n|  2| Jeeva| 912d194912|\n|  3|   Uma| 9492657547|\n+---+------+-----------+\n\n"
     ]
    }
   ],
   "source": [
    "df=spark.createDataFrame(sample_data,columns)\n",
    "df.show()"
   ]
  },
  {
   "cell_type": "code",
   "execution_count": 0,
   "metadata": {
    "application/vnd.databricks.v1+cell": {
     "cellMetadata": {
      "byteLimit": 2048000,
      "rowLimit": 10000
     },
     "inputWidgets": {},
     "nuid": "6e15ce0c-bf7d-4fbd-9193-bfe39415a748",
     "showTitle": false,
     "title": ""
    }
   },
   "outputs": [],
   "source": [
    "from pyspark.sql.functions import col"
   ]
  },
  {
   "cell_type": "code",
   "execution_count": 0,
   "metadata": {
    "application/vnd.databricks.v1+cell": {
     "cellMetadata": {
      "byteLimit": 2048000,
      "rowLimit": 10000
     },
     "inputWidgets": {},
     "nuid": "da146627-ef72-4c54-8158-9c4f47995bb0",
     "showTitle": false,
     "title": ""
    }
   },
   "outputs": [
    {
     "output_type": "stream",
     "name": "stdout",
     "output_type": "stream",
     "text": [
      "+---+----+----------+\n| ID|NAME|      PHNO|\n+---+----+----------+\n|  3| Uma|9492657547|\n+---+----+----------+\n\n"
     ]
    }
   ],
   "source": [
    "df_validph=df.select('*').filter(col('PHNO').rlike('^[0-9]{10}$'))\n",
    "df_validph.show()"
   ]
  }
 ],
 "metadata": {
  "application/vnd.databricks.v1+notebook": {
   "dashboards": [],
   "environmentMetadata": null,
   "language": "python",
   "notebookMetadata": {
    "pythonIndentUnit": 4
   },
   "notebookName": "regex",
   "widgets": {}
  }
 },
 "nbformat": 4,
 "nbformat_minor": 0
}
